{
 "cells": [
  {
   "cell_type": "markdown",
   "id": "1661070f-538f-415b-9706-0e2f62d03bec",
   "metadata": {},
   "source": [
    "# Graphs"
   ]
  },
  {
   "cell_type": "markdown",
   "id": "bbb17ce3-64b2-4b30-9464-0a95b0ba075e",
   "metadata": {},
   "source": [
    "## Terminology:  \n",
    "* `Edge`: A connection between two nodes, which can be arbitrarily complex and can have additional features like length, weight, type, functions and more.\n",
    "* `Adjacency`: A vertex is said to be adjacent to another vertex if there is an edge connecting them. Vertices 2 and 3 are not adjacent because there is no edge between them.\n",
    "* `Path`: A sequence of edges that allows you to go from vertex A to vertex B is called a path. 0-1, 1-2 and 0-2 are paths from vertex 0 to vertex 2.\n"
   ]
  },
  {
   "cell_type": "markdown",
   "id": "171466ea-5cdc-4ae5-afb7-446e8ab27f15",
   "metadata": {},
   "source": [
    "## Varieties of Graphs\n",
    "Overall there are `2` main types of Graphs:\n",
    "* Directed\n",
    "    * Edges between nodes are flowing in only a single direction, the `to`\n",
    "* Undirected\n",
    "    * Edges between nodes flow in both directions, `to` and `from`\n",
    "    \n",
    "An Honorable Mention goes to Trees:\n",
    "* Trees are a special type of graph called `Directed Acyclic Graphs` that satisfy another property in that a given node can only have a single parent"
   ]
  },
  {
   "cell_type": "markdown",
   "id": "8612cf16-8632-4eb8-bfae-81e64377ea0f",
   "metadata": {},
   "source": [
    "## Graph representations also come in a number of different varieties:\n",
    "* Adjacency Lists:\n",
    "    * Key: Value pairs such as a List, or Map / Dictionary\n",
    "        * NodeID : List of Connected NodeIDs (The List portion can be as complex as you desire, containing things like edge weight, length, type, etc)\n",
    "            * {\"A\" : [\"B\" , \"C\", \"D\"],\n",
    "               \"B\" : [\"A\"],\n",
    "               \"C\" : [\"A\"],\n",
    "               \"D\" : [\"A\"]}\n",
    "* Adjacency Matrix:\n",
    "    * A Matrix that is NxN where the row-index indicates the NodeID and the column-indexed values represent the existence of a connected node\n",
    "        * NodeIDs are integers and the values in the cells can once again be arbitrarily complex but the most basic is just boolean 0,1\n",
    "            * [[0] [1] [1], <br>\n",
    "               [1] [0] [0], <br>\n",
    "               [1] [0] [0]]\n",
    "* Data Structure:\n",
    "    * This representation will represent the graph using member functions and attributes, and may also have a function to represent the graph in the previous two formats\n",
    "        * IE: graph[0].neighbors = [1,2,3] or graph.get_neighbors(0) -> [1,2,3]"
   ]
  },
  {
   "cell_type": "markdown",
   "id": "81df6216-610a-4bd2-91cf-03b79450b3f1",
   "metadata": {},
   "source": [
    "## Traversals\n",
    "Similar to in trees we can typically traverse a graph using two distinct strategies:\n",
    "* Depth First Search:\n",
    "    * Follow a single direction all the way until the end of the path before searching neighbors in a different direction\n",
    "    * Typically uses a stack, can be implemented using either an iterative or recursive approach\n",
    "* Breadth First Search:\n",
    "    * Search all neighbors connected to a given node and gradually expand outwards to their neighbors until all connected nodes have been searched\n",
    "    * Typically uses a queue, usually implemented using an iterative approach"
   ]
  },
  {
   "cell_type": "code",
   "execution_count": 247,
   "id": "0aa29093-b14e-4a3a-b29d-7178f67a1fd5",
   "metadata": {},
   "outputs": [],
   "source": [
    "import math"
   ]
  },
  {
   "cell_type": "code",
   "execution_count": 248,
   "id": "5af8e752-5654-4f9b-8a23-02465c629036",
   "metadata": {},
   "outputs": [],
   "source": [
    "graph = {\n",
    "    'a': ['b', 'c'],\n",
    "    'b': ['d'],\n",
    "    'c': ['e'],\n",
    "    'd': ['f'],\n",
    "    'e': [],\n",
    "    'f': [],\n",
    "    'i': ['f']\n",
    "}"
   ]
  },
  {
   "cell_type": "code",
   "execution_count": 249,
   "id": "aaa5f106-e456-4b34-87ac-483f36f344d3",
   "metadata": {},
   "outputs": [],
   "source": [
    "def dfs_print(graph, head):\n",
    "    stack = [head]\n",
    "    while stack:\n",
    "        current = stack.pop(-1)\n",
    "        print(current)\n",
    "        for neighbor in graph[current]:\n",
    "            stack.append(neighbor)\n",
    "\n",
    "def dfs_print_recursive(graph, head):\n",
    "    print(head)\n",
    "    for neighbor in graph[head]:\n",
    "        bfs_print_recursive(graph, neighbor)"
   ]
  },
  {
   "cell_type": "code",
   "execution_count": 250,
   "id": "25661b2b-6464-4762-9fc8-246ccd635a72",
   "metadata": {},
   "outputs": [
    {
     "name": "stdout",
     "output_type": "stream",
     "text": [
      "a\n",
      "c\n",
      "e\n",
      "b\n",
      "d\n",
      "f\n",
      "\n",
      "a\n",
      "b\n",
      "d\n",
      "f\n",
      "c\n",
      "e\n"
     ]
    }
   ],
   "source": [
    "dfs_print(graph, 'a')\n",
    "print()\n",
    "dfs_print_recursive(graph, 'a')"
   ]
  },
  {
   "cell_type": "code",
   "execution_count": 251,
   "id": "0cbb314b-1c27-472e-bf1b-67595d1f004c",
   "metadata": {},
   "outputs": [],
   "source": [
    "def bfs_print(graph, head):\n",
    "    queue = [head]\n",
    "    while queue:\n",
    "        current = queue.pop(0)\n",
    "        print(current)\n",
    "        for neighbor in graph[current]:\n",
    "            queue.append(neighbor)\n",
    "\n"
   ]
  },
  {
   "cell_type": "code",
   "execution_count": 252,
   "id": "3df516aa-6e8b-4510-ae40-ccf1e8ed8c51",
   "metadata": {},
   "outputs": [
    {
     "name": "stdout",
     "output_type": "stream",
     "text": [
      "a\n",
      "b\n",
      "c\n",
      "d\n",
      "e\n",
      "f\n"
     ]
    }
   ],
   "source": [
    "bfs_print(graph, 'a')"
   ]
  },
  {
   "cell_type": "code",
   "execution_count": 253,
   "id": "bf2ce13d-af72-40e7-b0a7-dca227a8bf3a",
   "metadata": {},
   "outputs": [],
   "source": [
    "def has_path_bfs(graph, src, dest):\n",
    "    queue = [src]\n",
    "    while queue:\n",
    "        current = queue.pop(0)\n",
    "        if current == dest:\n",
    "            return True\n",
    "        for neighbor in graph[current]:\n",
    "            queue.append(neighbor)\n",
    "    return False\n",
    "\n",
    "def has_path_dfs(graph, src, dest):\n",
    "    stack = [src]\n",
    "    while stack:\n",
    "        current = stack.pop(-1)\n",
    "        if current == dest:\n",
    "            return True\n",
    "        for neighbor in graph[current]:\n",
    "            stack.append(neighbor)\n",
    "    return False\n",
    "\n",
    "def has_path_dfs_recursive(graph, src, dest):\n",
    "    has_path = False\n",
    "    if src == dest:\n",
    "        return True\n",
    "    for neighbor in graph[src]:\n",
    "        has_path = has_path_dfs_recursive(graph, neighbor, dest)\n",
    "        if has_path:\n",
    "            break\n",
    "    return has_path"
   ]
  },
  {
   "cell_type": "code",
   "execution_count": 254,
   "id": "3198f8df-5069-4253-a42a-505d8b01e179",
   "metadata": {},
   "outputs": [
    {
     "name": "stdout",
     "output_type": "stream",
     "text": [
      "False\n",
      "False\n",
      "False\n",
      "\n",
      "True\n",
      "True\n",
      "True\n"
     ]
    }
   ],
   "source": [
    "for _ in (has_path_bfs(graph, 'a', 'i'),\n",
    "          has_path_dfs_recursive(graph, 'a', 'i'),\n",
    "          has_path_dfs(graph, 'a', 'i')):\n",
    "    print(_)\n",
    "\n",
    "print()\n",
    "\n",
    "for _ in (has_path_bfs(graph, 'a', 'f'),\n",
    "          has_path_dfs_recursive(graph, 'a', 'f'),\n",
    "          has_path_dfs(graph, 'a', 'f')):\n",
    "    print(_)"
   ]
  },
  {
   "cell_type": "code",
   "execution_count": 255,
   "id": "e5cd1247-75c7-4616-a246-59868ecef095",
   "metadata": {},
   "outputs": [],
   "source": [
    "edge_list = [['i', 'j'],\n",
    "             ['k', 'i'],\n",
    "             ['m', 'k'],\n",
    "             ['k', 'l'],\n",
    "             ['o', 'n']]\n",
    "\n",
    "def edge_list_to_adjacency_list(edge_list):\n",
    "    adjacency_list = {}\n",
    "    for a, b in edge_list:\n",
    "        if a in adjacency_list:\n",
    "            adjacency_list[a].append(b)\n",
    "        else:\n",
    "            adjacency_list[a] = [b]\n",
    "        if b in adjacency_list:\n",
    "            adjacency_list[b].append(a)\n",
    "        else:\n",
    "            adjacency_list[b] = [a]\n",
    "    return adjacency_list\n",
    "\n",
    "adjacency_list = edge_list_to_adjacency_list(edge_list)"
   ]
  },
  {
   "cell_type": "code",
   "execution_count": 256,
   "id": "51b4881d-979f-4df4-9a84-aa4d93cf6a1e",
   "metadata": {},
   "outputs": [
    {
     "data": {
      "text/plain": [
       "{'i': ['j', 'k'],\n",
       " 'j': ['i'],\n",
       " 'k': ['i', 'm', 'l'],\n",
       " 'm': ['k'],\n",
       " 'l': ['k'],\n",
       " 'o': ['n'],\n",
       " 'n': ['o']}"
      ]
     },
     "execution_count": 256,
     "metadata": {},
     "output_type": "execute_result"
    }
   ],
   "source": [
    "adjacency_list"
   ]
  },
  {
   "cell_type": "code",
   "execution_count": 257,
   "id": "c6889241-b62d-4ff4-b307-cec04557dac2",
   "metadata": {},
   "outputs": [],
   "source": [
    "def has_path_with_cycles_bfs(graph, src, dest):\n",
    "    seen = set()\n",
    "    queue = [src]\n",
    "    while queue:\n",
    "        current = queue.pop(0)\n",
    "        seen.add(current)\n",
    "        if current == dest:\n",
    "            return True\n",
    "        for neighbor in graph[current]:\n",
    "            if neighbor not in seen:\n",
    "                queue.append(neighbor)\n",
    "    return False\n",
    "\n",
    "def has_path_with_cycles_dfs(graph, src, dest):\n",
    "    seen = set()\n",
    "    stack = [src]\n",
    "    while stack:\n",
    "        current = stack.pop(-1)\n",
    "        seen.add(current)\n",
    "        if current == dest:\n",
    "            return True\n",
    "        for neighbor in graph[current]:\n",
    "            if neighbor not in seen:\n",
    "                stack.append(neighbor)\n",
    "    return False\n",
    "\n",
    "def has_path_with_cycles_dfs_recursive(graph, src, dest, seen=set()):\n",
    "    has_path = False\n",
    "    if src == dest:\n",
    "        return True\n",
    "    seen.add(src)\n",
    "    for neighbor in graph[src]:\n",
    "        if neighbor not in seen:\n",
    "            has_path = has_path_with_cycles_dfs_recursive(graph, neighbor, seen)\n",
    "            if has_path:\n",
    "                break\n",
    "    return has_path"
   ]
  },
  {
   "cell_type": "code",
   "execution_count": 258,
   "id": "e1ab6f60-8e3f-42e1-a5da-66b51e20f63d",
   "metadata": {},
   "outputs": [
    {
     "name": "stdout",
     "output_type": "stream",
     "text": [
      "False\n",
      "False\n",
      "False\n"
     ]
    }
   ],
   "source": [
    "for fn in (has_path_with_cycles_bfs,\n",
    "           has_path_with_cycles_dfs,\n",
    "           has_path_with_cycles_dfs_recursive):\n",
    "    print(fn(adjacency_list, 'i', 'o'))"
   ]
  },
  {
   "cell_type": "code",
   "execution_count": 259,
   "id": "32ca401e-54f9-4369-a575-1d49c9d6fc76",
   "metadata": {},
   "outputs": [],
   "source": [
    "graph = {\n",
    "    1: [2],\n",
    "    2: [1],\n",
    "    3: [],\n",
    "    4: [6],\n",
    "    5: [6],\n",
    "    6: [4,5,7,8],\n",
    "    7: [6],\n",
    "    8: [6]\n",
    "}"
   ]
  },
  {
   "cell_type": "code",
   "execution_count": 260,
   "id": "f51bb4ef-6ee7-4139-8549-6b7de2012267",
   "metadata": {},
   "outputs": [],
   "source": [
    "def count_connected_components_bfs(graph):\n",
    "    count = 0\n",
    "    seen = set()\n",
    "    queue = []\n",
    "    for node, edges in graph.items():\n",
    "        if node not in seen:\n",
    "            count += 1\n",
    "        queue.append(node)\n",
    "        while queue:\n",
    "            current = queue.pop(0)\n",
    "            if current in seen:\n",
    "                continue\n",
    "            seen.add(current)\n",
    "            for neighbor in graph[current]:\n",
    "                queue.append(neighbor)\n",
    "        \n",
    "    return count\n",
    "\n",
    "def count_connected_components_dfs(graph):\n",
    "    count = 0\n",
    "    seen = set()\n",
    "    stack = []\n",
    "    for node, edges in graph.items():\n",
    "        if node not in seen:\n",
    "            count += 1\n",
    "        stack.append(node)\n",
    "        while stack:\n",
    "            current = stack.pop(-1)\n",
    "            if current in seen:\n",
    "                continue\n",
    "            seen.add(current)\n",
    "            for neighbor in graph[current]:\n",
    "                stack.append(neighbor)\n",
    "        \n",
    "    return count\n",
    "\n",
    "def explore_recursive(graph, src, seen):\n",
    "    if src in seen:\n",
    "        return 0\n",
    "    seen.add(src)\n",
    "    for neighbor in graph[src]:\n",
    "        explore_recursive(graph, neighbor, seen)\n",
    "    return 1\n",
    "\n",
    "def count_connected_components_dfs_recursive(graph, seen=set()):\n",
    "    count = 0\n",
    "    for node, edges in graph.items():\n",
    "        count += explore_recursive(graph, node, seen)\n",
    "    return count"
   ]
  },
  {
   "cell_type": "code",
   "execution_count": 261,
   "id": "3f972733-80f9-4319-a284-b391ac2ff88a",
   "metadata": {},
   "outputs": [
    {
     "name": "stdout",
     "output_type": "stream",
     "text": [
      "3\n",
      "3\n",
      "3\n"
     ]
    }
   ],
   "source": [
    "for fn in (count_connected_components_bfs,\n",
    "           count_connected_components_dfs,\n",
    "           count_connected_components_dfs_recursive):\n",
    "    print(fn(graph))"
   ]
  },
  {
   "cell_type": "code",
   "execution_count": 262,
   "id": "8ebded50-d999-47dc-b459-fdebf800e217",
   "metadata": {},
   "outputs": [],
   "source": [
    "graph = {\n",
    "    0: [8, 1, 5],\n",
    "    1: [0],\n",
    "    2: [3, 4],\n",
    "    3: [2, 4],\n",
    "    4: [3, 2],\n",
    "    5: [0, 8],\n",
    "    8: [0, 5]\n",
    "}"
   ]
  },
  {
   "cell_type": "code",
   "execution_count": 263,
   "id": "7b670cac-2a0b-4ff1-8876-b8646360a084",
   "metadata": {},
   "outputs": [],
   "source": [
    "def largest_component_bfs(graph):\n",
    "    max_component_size = 0\n",
    "    seen = set()\n",
    "    queue = []\n",
    "    for node in graph:\n",
    "        component_size = 0\n",
    "        if node not in seen:\n",
    "            queue.append(node)\n",
    "\n",
    "            \n",
    "            while queue:\n",
    "                current = queue.pop(0)\n",
    "                if current in seen:\n",
    "                    continue\n",
    "                component_size += 1\n",
    "                seen.add(current)\n",
    "                for neighbor in graph[current]:\n",
    "                    queue.append(neighbor)\n",
    "            max_component_size = max(component_size, max_component_size)\n",
    "    return max_component_size\n",
    "\n",
    "def largest_component_dfs(graph):\n",
    "    max_component_size = 0\n",
    "    seen = set()\n",
    "    stack = []\n",
    "    for node in graph:\n",
    "        component_size = 0\n",
    "        if node not in seen:\n",
    "            stack.append(node)\n",
    "\n",
    "            \n",
    "            while stack:\n",
    "                current = stack.pop(-1)\n",
    "                if current in seen:\n",
    "                    continue\n",
    "                component_size += 1\n",
    "                seen.add(current)\n",
    "                for neighbor in graph[current]:\n",
    "                    stack.append(neighbor)\n",
    "            max_component_size = max(component_size, max_component_size)\n",
    "    return max_component_size"
   ]
  },
  {
   "cell_type": "code",
   "execution_count": 264,
   "id": "6c362626-6b0d-4f7e-bcc6-8537a2e8d182",
   "metadata": {},
   "outputs": [
    {
     "name": "stdout",
     "output_type": "stream",
     "text": [
      "4\n",
      "4\n"
     ]
    }
   ],
   "source": [
    "for fn in (largest_component_bfs, largest_component_dfs):\n",
    "    print(fn(graph))"
   ]
  },
  {
   "cell_type": "code",
   "execution_count": 265,
   "id": "2091323a-220c-4425-a013-7803ca2c4dad",
   "metadata": {},
   "outputs": [],
   "source": [
    "def smallest_component_bfs(graph):\n",
    "    min_component_size = math.inf\n",
    "    seen = set()\n",
    "    queue = []\n",
    "    for node in graph:\n",
    "        component_size = 0\n",
    "        if node not in seen:\n",
    "            queue.append(node)\n",
    "\n",
    "            \n",
    "            while queue:\n",
    "                current = queue.pop(0)\n",
    "                if current in seen:\n",
    "                    continue\n",
    "                component_size += 1\n",
    "                seen.add(current)\n",
    "                for neighbor in graph[current]:\n",
    "                    queue.append(neighbor)\n",
    "            min_component_size = min(component_size, min_component_size)\n",
    "    return min_component_size\n",
    "\n",
    "def smallest_component_dfs(graph):\n",
    "    min_component_size = math.inf\n",
    "    seen = set()\n",
    "    stack = []\n",
    "    for node in graph:\n",
    "        component_size = 0\n",
    "        if node not in seen:\n",
    "            stack.append(node)\n",
    "\n",
    "            \n",
    "            while stack:\n",
    "                current = stack.pop(-1)\n",
    "                if current in seen:\n",
    "                    continue\n",
    "                component_size += 1\n",
    "                seen.add(current)\n",
    "                for neighbor in graph[current]:\n",
    "                    stack.append(neighbor)\n",
    "            min_component_size = min(component_size, min_component_size)\n",
    "    return min_component_size"
   ]
  },
  {
   "cell_type": "code",
   "execution_count": 266,
   "id": "d396e599-7a02-4ced-9a44-22ffc4fb04c7",
   "metadata": {},
   "outputs": [
    {
     "name": "stdout",
     "output_type": "stream",
     "text": [
      "3\n",
      "3\n"
     ]
    }
   ],
   "source": [
    "for fn in (smallest_component_bfs, smallest_component_dfs):\n",
    "    print(fn(graph))"
   ]
  },
  {
   "cell_type": "code",
   "execution_count": 267,
   "id": "18ae75f1-0f02-440e-8f40-88a0b64c155d",
   "metadata": {},
   "outputs": [],
   "source": [
    "edge_list = [['w', 'x'],\n",
    "             ['x', 'y'],\n",
    "             ['z', 'y'],\n",
    "             ['z', 'v'],\n",
    "             ['w', 'v']]"
   ]
  },
  {
   "cell_type": "code",
   "execution_count": 268,
   "id": "be4a3680-3cee-435f-9e82-6e438a5bad36",
   "metadata": {},
   "outputs": [],
   "source": [
    "def shortest_path(edge_list, source, target):\n",
    "    \n",
    "    shortest_path = []\n",
    "    adjacency_list = {}\n",
    "    \n",
    "    for a, b in edge_list:\n",
    "        if a not in adjacency_list:\n",
    "            adjacency_list[a] = []\n",
    "        if b not in adjacency_list:\n",
    "            adjacency_list[b] = []\n",
    "            \n",
    "        adjacency_list[a].append(b)\n",
    "        adjacency_list[b].append(a)\n",
    "    \n",
    "    queue = [(source, [source])]\n",
    "    seen = set()\n",
    "        \n",
    "    while queue:\n",
    "        current, current_path = queue.pop(0)\n",
    "        if current in seen:\n",
    "            continue\n",
    "        seen.add(current)\n",
    "        if current == target:\n",
    "            return current_path, len(current_path) -1\n",
    "                \n",
    "        for neighbor in adjacency_list[current]:\n",
    "            path = [*current_path, neighbor]\n",
    "            queue.append((neighbor, path))\n",
    "    return len(shortest_path), shortest_path\n",
    "            \n",
    "    "
   ]
  },
  {
   "cell_type": "code",
   "execution_count": 269,
   "id": "c754f604-343e-458a-b721-132340400e7d",
   "metadata": {},
   "outputs": [
    {
     "data": {
      "text/plain": [
       "(['w', 'v', 'z'], 2)"
      ]
     },
     "execution_count": 269,
     "metadata": {},
     "output_type": "execute_result"
    }
   ],
   "source": [
    "shortest_path(edge_list, 'w', 'z')"
   ]
  },
  {
   "cell_type": "code",
   "execution_count": 270,
   "id": "5413259f-6af6-4909-8b33-3d1c6c05e220",
   "metadata": {},
   "outputs": [],
   "source": [
    "islands = [['w', 'l', 'w', 'w', 'l', 'w'],\n",
    "           ['l', 'l', 'w', 'w', 'l', 'w'],\n",
    "           ['w', 'l', 'w', 'w', 'w', 'w'],\n",
    "           ['w', 'w', 'w', 'l', 'l', 'w'],\n",
    "           ['w', 'l', 'w', 'l', 'l', 'w'],\n",
    "           ['w', 'w', 'w', 'w', 'w', 'w']]"
   ]
  },
  {
   "cell_type": "code",
   "execution_count": 271,
   "id": "312a6a15-9d77-424e-a905-52feb1666355",
   "metadata": {},
   "outputs": [],
   "source": [
    "def explore_island(islands, src_row, src_col, land_symbol='l', seen=set()):\n",
    "    queue = [(src_row, src_col)]\n",
    "    while queue:\n",
    "        current_row, current_col = queue.pop(0)\n",
    "        if (current_row, current_col) in seen:\n",
    "            continue\n",
    "        seen.add((current_row, current_col))\n",
    "        \n",
    "        for neighbor_row, neighbor_col in [(current_row, current_col-1),\n",
    "                                           (current_row, current_col+1),\n",
    "                                           (current_row-1, current_col),\n",
    "                                           (current_row+1, current_col)]:\n",
    "            if (neighbor_row, neighbor_col) in seen:\n",
    "                continue\n",
    "            if 0 <= neighbor_row < len(islands) and 0 <= neighbor_col < len(islands[0]):\n",
    "                if islands[neighbor_row][neighbor_col] == land_symbol:\n",
    "                    queue.append((neighbor_row, neighbor_col))\n",
    "    return seen\n",
    "                                            \n",
    "        \n",
    "def count_islands(islands, land_symbol='l'):\n",
    "    seen = set()\n",
    "    island_count = 0\n",
    "    \n",
    "    for src_row, row in enumerate(islands):\n",
    "        for src_col, col in enumerate(row):\n",
    "            if islands[src_row][src_col]==land_symbol:\n",
    "                if (src_row, src_col) not in seen:\n",
    "                    seen = explore_island(islands, src_row, src_col, land_symbol, seen)\n",
    "                    island_count += 1\n",
    "    return island_count\n",
    "            "
   ]
  },
  {
   "cell_type": "code",
   "execution_count": 272,
   "id": "51cd92fb-ea93-475b-b55d-ed28145039aa",
   "metadata": {},
   "outputs": [
    {
     "data": {
      "text/plain": [
       "4"
      ]
     },
     "execution_count": 272,
     "metadata": {},
     "output_type": "execute_result"
    }
   ],
   "source": [
    "count_islands(islands)"
   ]
  },
  {
   "cell_type": "code",
   "execution_count": 273,
   "id": "e1ed05a5-84ff-44c5-902d-42a8e2d39f3f",
   "metadata": {},
   "outputs": [],
   "source": [
    "def get_island_size(islands, src_row, src_col, land_symbol, seen):\n",
    "    queue = [(src_row, src_col)]\n",
    "    island_size = 0\n",
    "    while queue:\n",
    "        current_row, current_col = queue.pop(0)\n",
    "        \n",
    "        if (current_row, current_col) in seen:\n",
    "            continue\n",
    "        island_size += 1\n",
    "        seen.add((current_row, current_col))\n",
    "        for neighbor_row, neighbor_col in [(current_row, current_col-1),\n",
    "                                           (current_row, current_col+1),\n",
    "                                           (current_row-1, current_col),\n",
    "                                           (current_row+1, current_col)]:\n",
    "            if (neighbor_row, neighbor_col) in seen:\n",
    "                continue\n",
    "            if 0 <= neighbor_row < len(islands) and 0 <= neighbor_col < len(islands[0]):\n",
    "                if islands[neighbor_row][neighbor_col] == land_symbol:\n",
    "                    queue.append((neighbor_row, neighbor_col))\n",
    "                  \n",
    "    return island_size, seen\n",
    "\n",
    "def minimum_island_size(islands, land_symbol='l'):\n",
    "    min_island_size = math.inf\n",
    "    seen = set()\n",
    "    for src_row, row in enumerate(islands):\n",
    "        for src_col, col in enumerate(row):\n",
    "            if (src_row, src_col) not in seen:\n",
    "                if islands[src_row][src_col] == land_symbol:\n",
    "                    island_size, seen = get_island_size(islands, src_row, src_col, land_symbol, seen)\n",
    "                    min_island_size = min(min_island_size, island_size)\n",
    "    return min_island_size"
   ]
  },
  {
   "cell_type": "code",
   "execution_count": 274,
   "id": "67d85d70-e6a6-4067-ae94-10655dfa727c",
   "metadata": {},
   "outputs": [
    {
     "data": {
      "text/plain": [
       "1"
      ]
     },
     "execution_count": 274,
     "metadata": {},
     "output_type": "execute_result"
    }
   ],
   "source": [
    "minimum_island_size(islands)"
   ]
  },
  {
   "cell_type": "code",
   "execution_count": 275,
   "id": "5f6dd09a-4531-4321-8e84-916ad08d4678",
   "metadata": {},
   "outputs": [],
   "source": [
    "islands = [['w', 'l', 'w', 'w', 'l', 'w'],\n",
    "           ['l', 'l', 'w', 'w', 'l', 'w'],\n",
    "           ['w', 'l', 'w', 'w', 'w', 'w'],\n",
    "           ['w', 'w', 'w', 'l', 'l', 'w'],\n",
    "           ['l', 'l', 'w', 'l', 'l', 'w'],\n",
    "           ['w', 'w', 'w', 'w', 'w', 'w']]"
   ]
  },
  {
   "cell_type": "code",
   "execution_count": 276,
   "id": "5cabbbe6-7598-4b8e-83fe-f050654b2838",
   "metadata": {},
   "outputs": [
    {
     "data": {
      "text/plain": [
       "2"
      ]
     },
     "execution_count": 276,
     "metadata": {},
     "output_type": "execute_result"
    }
   ],
   "source": [
    "minimum_island_size(islands)"
   ]
  },
  {
   "cell_type": "code",
   "execution_count": null,
   "id": "648a1b7a-0a06-4c20-8ba6-5223ed6c9cd9",
   "metadata": {},
   "outputs": [],
   "source": []
  },
  {
   "cell_type": "code",
   "execution_count": null,
   "id": "28797b08-6f21-472f-90eb-f33ec08fff61",
   "metadata": {},
   "outputs": [],
   "source": []
  }
 ],
 "metadata": {
  "kernelspec": {
   "display_name": "Python 3 (ipykernel)",
   "language": "python",
   "name": "python3"
  },
  "language_info": {
   "codemirror_mode": {
    "name": "ipython",
    "version": 3
   },
   "file_extension": ".py",
   "mimetype": "text/x-python",
   "name": "python",
   "nbconvert_exporter": "python",
   "pygments_lexer": "ipython3",
   "version": "3.8.6"
  }
 },
 "nbformat": 4,
 "nbformat_minor": 5
}
