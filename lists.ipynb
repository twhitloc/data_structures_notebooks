{
 "cells": [
  {
   "cell_type": "code",
   "execution_count": 4,
   "id": "33c7e8d6-ee6f-4edc-ae41-c91fe5952d68",
   "metadata": {},
   "outputs": [
    {
     "name": "stdout",
     "output_type": "stream",
     "text": [
      "[['eat', 'tea', 'ate'], ['tan', 'nat'], ['bat']]\n"
     ]
    }
   ],
   "source": [
    "strs = [\"eat\",\"tea\",\"tan\",\"ate\",\"nat\",\"bat\"]\n",
    "\n",
    "from typing import List\n",
    "\n",
    "def Anagram(in_str)->List[List[str]]:\n",
    "    # Dictionary of dictionaries\n",
    "    # Keys would be the input string index\n",
    "    # Values character histograms\n",
    "    # \n",
    "    histograms = {}\n",
    "    for word in in_str:\n",
    "        word_histogram = [0]*26\n",
    "        lowercase_word = word.lower()\n",
    "        for character in lowercase_word:\n",
    "            character_index = ord(character) - ord('a')\n",
    "            word_histogram[character_index]+= 1\n",
    "        characters = tuple(word_histogram)\n",
    "        if characters in histograms:\n",
    "            histograms[characters].append(word)\n",
    "        else:\n",
    "            histograms[characters] = [word]\n",
    "    return list(histograms.values())\n",
    "\n",
    "print(Anagram(in_str=strs))"
   ]
  },
  {
   "cell_type": "code",
   "execution_count": null,
   "id": "4f870736-7fd1-4918-8ada-3f6131203ea7",
   "metadata": {},
   "outputs": [],
   "source": []
  },
  {
   "cell_type": "code",
   "execution_count": null,
   "id": "e367b7eb-5192-49b1-bc62-b0a120abfc56",
   "metadata": {},
   "outputs": [],
   "source": []
  }
 ],
 "metadata": {
  "kernelspec": {
   "display_name": "Python 3 (ipykernel)",
   "language": "python",
   "name": "python3"
  },
  "language_info": {
   "codemirror_mode": {
    "name": "ipython",
    "version": 3
   },
   "file_extension": ".py",
   "mimetype": "text/x-python",
   "name": "python",
   "nbconvert_exporter": "python",
   "pygments_lexer": "ipython3",
   "version": "3.8.6"
  }
 },
 "nbformat": 4,
 "nbformat_minor": 5
}
