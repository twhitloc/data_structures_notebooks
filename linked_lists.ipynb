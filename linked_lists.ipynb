{
 "cells": [
  {
   "cell_type": "markdown",
   "id": "9e8d119f-da54-40b5-bcf8-7955ece8b6bf",
   "metadata": {},
   "source": [
    "# Nodes and Linked Lists"
   ]
  },
  {
   "cell_type": "markdown",
   "id": "b4cd46d3-94ea-4fc3-a480-8bdbc4938c04",
   "metadata": {},
   "source": [
    "## Node\n",
    "* The most basic unit of many data structures is a Node, this is a single data point, member or instance of a value contained in a data structure\n",
    "    * Nodes can contain various types of data and can themselves be as complex as the user desires but they generally only contain a single `value`\n",
    "    * Nodes will also generally contain some number of references to the following node, the number of references can change with the data structure that the Node class is a member of\n",
    "    * In a standard singly-LinkedList a Node will only have one pointer value referencing the subsequent value, typically denoted as `next`\n",
    "    * In a doubly-LinkedList a Node object will typically have two pointers, one for the preceeding value, `previous`, and one for the subsequent value, `next`"
   ]
  },
  {
   "cell_type": "code",
   "execution_count": 1,
   "id": "3635051e-c839-4787-80dd-76010e888cec",
   "metadata": {},
   "outputs": [],
   "source": [
    "class SinglyLinkedNode:\n",
    "    \"\"\"\n",
    "    A Node class for use in a singly-LinkedList\n",
    "    \"\"\"\n",
    "    \n",
    "    def __init__(self, value, nxt=None):\n",
    "        \"\"\"\n",
    "        Constructor\n",
    "        :param value: Value for the given Node\n",
    "        \"\"\"\n",
    "        self.value = value\n",
    "        self.nxt = nxt"
   ]
  },
  {
   "cell_type": "code",
   "execution_count": 2,
   "id": "2aa57704-48da-468c-bcff-94691077f2f2",
   "metadata": {},
   "outputs": [],
   "source": [
    "class DoublyLinkedNode(SinglyLinkedNode):\n",
    "    \"\"\"\n",
    "    A Node class for use in a doubly-LinkedList\n",
    "    \"\"\"\n",
    "    def __init__(self, value, prv=None, nxt=None):\n",
    "        \"\"\"\n",
    "        Constructor\n",
    "        :param value: Value for the given Node\n",
    "        :param previous: Pointer to the previous Node\n",
    "        \"\"\"\n",
    "        super().__init__(value, nxt)\n",
    "        self.prv = prv"
   ]
  },
  {
   "cell_type": "markdown",
   "id": "886ad5c9-e78e-4c3a-9bb1-a75ad8aa6f4b",
   "metadata": {},
   "source": [
    "## LinkedList\n",
    "* LinkedLists will typically be one of two types of LinkedList, a singly or doubly LinkedList\n",
    "    * Singly-Linked:\n",
    "        * This data structure will consist of Nodes, as well as some pointer references to the beginning of the LinkedList, `head`, as well as a reference to the end of the LinkedList, `tail`\n",
    "        * This data structure can only be traversed in a single direction, that is from `head` to `tail`\n",
    "    * Doubly-Linked:\n",
    "        * This data structure will also consist of Nodes with and will likewise have `head` and `tail` references\n",
    "        * This type of LinkedList, however, can be traversed in either direction, from `head` to `tail` or from `tail` to `head`"
   ]
  },
  {
   "cell_type": "code",
   "execution_count": 3,
   "id": "0f351cbc-5a7c-4320-b505-aed55d870a85",
   "metadata": {},
   "outputs": [],
   "source": [
    "class SinglyLinkedList:\n",
    "    \"\"\"\n",
    "    A Singly-LinkedList class consisting of Singly-LinkedNodes\n",
    "    \"\"\"\n",
    "    \n",
    "    def __init__(self):\n",
    "        self.head = None\n",
    "        self.tail = None\n",
    "    \n",
    "    def insert(self, node):\n",
    "        if not self.head:\n",
    "            self.head = self.tail = node\n",
    "        else:\n",
    "            self.tail.nxt = node\n",
    "            self.tail = node\n",
    "    \n",
    "    def print(self):\n",
    "        current = self.head\n",
    "        while current:\n",
    "            print(current.value)\n",
    "            current = current.nxt\n",
    "    \n",
    "    def print_recursive(self, head):\n",
    "        if not head:\n",
    "            return\n",
    "        print(head.value)\n",
    "        self.print_recursive(head.nxt)\n",
    "    \n",
    "    def linked_list_values(self):\n",
    "        values = []\n",
    "        current = self.head\n",
    "        while current:\n",
    "            values.append(current.value)\n",
    "            current = current.nxt\n",
    "        return values\n",
    "    \n",
    "    def linked_list_values_recursive(self, head, values):\n",
    "        if not head:\n",
    "            return values\n",
    "        \n",
    "        values.append(head.value)\n",
    "        return self.linked_list_values_recursive(head.nxt, values)\n",
    "    \n",
    "    def linked_list_sum(self):\n",
    "        total = 0\n",
    "        current = self.head\n",
    "        while current:\n",
    "            total += current.value\n",
    "            current = current.nxt\n",
    "        return total\n",
    "    \n",
    "    def linked_list_sum_recursive(self, head, total):\n",
    "        if not head:\n",
    "            return total\n",
    "        return self.linked_list_sum_recursive(head.nxt, total + head.value)\n",
    "    \n",
    "    def get_index_of_value(self, value):\n",
    "        index = 0\n",
    "        current = self.head\n",
    "        while current:\n",
    "            if current.value == value:\n",
    "                return index\n",
    "            index += 1\n",
    "            current = current.nxt\n",
    "        return -1\n",
    "    \n",
    "    def get_index_of_value_recursive(self, value, head, index=0):\n",
    "        if not head:\n",
    "            return -1\n",
    "        if head.value == value:\n",
    "            return index\n",
    "        return self.get_index_of_value_recursive(value, head.nxt, index +1)\n",
    "    \n",
    "    def get_value_at_index(self, index):\n",
    "        current_index = 0\n",
    "        current = self.head\n",
    "        while current:\n",
    "            if current_index == index:\n",
    "                return current.value\n",
    "            current = current.nxt\n",
    "            current_index += 1\n",
    "        return -1\n",
    "    \n",
    "    def get_value_at_index_recursive(self, index, head, current_index=0):\n",
    "        if not head:\n",
    "            return -1\n",
    "        if index == current_index:\n",
    "            return head.value\n",
    "        return self.get_value_at_index_recursive(index, head.nxt, current_index +1)\n",
    "    \n",
    "    def reverse(self):\n",
    "        current = self.head\n",
    "        prv = None\n",
    "        nxt = current.nxt\n",
    "        \n",
    "        while current:\n",
    "            nxt = current.nxt\n",
    "            current.nxt = prv\n",
    "            prv = current\n",
    "            current = nxt\n",
    "            \n",
    "        self.head = prv\n",
    "        return\n",
    "    \n",
    "    def reverse_recursive(self, head, prv=None, nxt=None):\n",
    "        if not head:\n",
    "            self.head = prv\n",
    "            return\n",
    "        nxt = head.nxt\n",
    "        head.nxt = prv\n",
    "        prv = head\n",
    "        return self.reverse_recursive(nxt, prv, head.nxt)\n",
    "    \n",
    "    def zipper_merge_list(self, other):\n",
    "        current = self.head.nxt\n",
    "        tail = self.head\n",
    "        current_other = other.head\n",
    "        index = 0\n",
    "        \n",
    "        while current or current_other:\n",
    "            if index % 2 == 0:\n",
    "                if current_other:\n",
    "                    tail.nxt = current_other\n",
    "                    tail = current_other\n",
    "                    current_other = tail.nxt\n",
    "                else:\n",
    "                    tail.nxt = current\n",
    "                    return\n",
    "            else:\n",
    "                if current:\n",
    "                    tail.nxt = current\n",
    "                    tail = current\n",
    "                    current = current.nxt\n",
    "                else:\n",
    "                    tail.nxt = current_other\n",
    "                    return\n",
    "            index += 1\n",
    "        return\n",
    "    \n",
    "    def zipper_merge_list_recursive(self, head_a, head_b):\n",
    "        if not head_a and not head_b:\n",
    "            return\n",
    "        if not head_a:\n",
    "            return head_b\n",
    "        if not head_b:\n",
    "            return head_a\n",
    "        \n",
    "        nxt_a = head_a.nxt\n",
    "        nxt_b = head_b.nxt\n",
    "        head_a.nxt = head_b\n",
    "        \n",
    "        head_b.nxt = self.zipper_merge_list_recursive(nxt_a, nxt_b)\n",
    "        return head_a"
   ]
  },
  {
   "cell_type": "markdown",
   "id": "4bf7879e-70c7-4316-b736-235944cf645e",
   "metadata": {},
   "source": [
    "### Using Inheritence\n",
    "In python, as in most object oriented programming languages we are able to use inheritence, and multiple inheritence to define classes that might be derived from one another.\n",
    "As a concrete example a DoublyLinkedList is just a SinglyLinkedList with an additional pointer in each Node. Therefore many of the functions, and attributes of the class will be almost the same, but with potentially slight deviations in that we will have another pointer to manipulate.  This class will also have other methods that the SinglyLinkedList will not have, and so the inheritence, or the derivation can only go in one direction here.  That is to say SinglyLinkedLists will only have a subset of the functionality of the DoublyLinkedList and so this will determine the direction of our inheritence relationship."
   ]
  },
  {
   "cell_type": "code",
   "execution_count": 4,
   "id": "76509687-0954-47e3-bfc7-3407cef71c04",
   "metadata": {},
   "outputs": [],
   "source": [
    "class DoublyLinkedList(SinglyLinkedList):\n",
    "    \"\"\"\n",
    "    A Doubly-LinkedList class consisting of Doubly-LinkedNodes\n",
    "    \"\"\"\n",
    "    \n",
    "    def __init__(self):\n",
    "        super().__init__()\n",
    "    \n",
    "    def insert(self, node):\n",
    "        tail = self.tail\n",
    "        \n",
    "        super().insert(node)\n",
    "        \n",
    "        self.tail.prv = tail\n",
    "    \n",
    "    def linked_list_values_reversed(self):\n",
    "        values = []\n",
    "        current = self.tail\n",
    "        while current:\n",
    "            values.append(current.value)\n",
    "            current = current.prv\n",
    "        return values\n",
    "        \n",
    "    def linked_list_values_reversed_recursive(self, tail, values):\n",
    "        if not tail:\n",
    "            return values\n",
    "        \n",
    "        values.append(tail.value)\n",
    "        return self.linked_list_values_reversed_recursive(tail.prv, values)\n",
    "        \n",
    "        "
   ]
  },
  {
   "cell_type": "code",
   "execution_count": 5,
   "id": "d74f4921-d4bf-4531-aa27-0fee4c3e48f3",
   "metadata": {},
   "outputs": [
    {
     "name": "stdout",
     "output_type": "stream",
     "text": [
      "0\n",
      "1\n",
      "2\n",
      "3\n",
      "4\n",
      "5\n",
      "6\n",
      "7\n",
      "8\n",
      "9\n"
     ]
    }
   ],
   "source": [
    "lst = DoublyLinkedList()\n",
    "for i in range(10):\n",
    "    node = DoublyLinkedNode(i)\n",
    "    lst.insert(node)\n",
    "\n",
    "lst.print()"
   ]
  },
  {
   "cell_type": "code",
   "execution_count": 6,
   "id": "bd18ec54-b19a-498e-9cf8-2b881301b4b6",
   "metadata": {},
   "outputs": [
    {
     "name": "stdout",
     "output_type": "stream",
     "text": [
      "[9, 8, 7, 6, 5, 4, 3, 2, 1, 0]\n",
      "[0, 1, 2, 3, 4, 5, 6, 7, 8, 9]\n"
     ]
    }
   ],
   "source": [
    "for _ in (lst.linked_list_values_reversed_recursive(lst.tail, []), lst.linked_list_values_recursive(lst.head, [])):\n",
    "    print(_)"
   ]
  },
  {
   "cell_type": "code",
   "execution_count": 7,
   "id": "bb40faf3-a8e3-4370-b47a-1037d60d28bd",
   "metadata": {},
   "outputs": [
    {
     "name": "stdout",
     "output_type": "stream",
     "text": [
      "45\n",
      "45\n"
     ]
    }
   ],
   "source": [
    "for _ in (lst.linked_list_sum_recursive(lst.head, 0), lst.linked_list_sum()):\n",
    "    print(_)"
   ]
  },
  {
   "cell_type": "code",
   "execution_count": 8,
   "id": "b65b33b7-9f6f-4726-979d-056081a948d4",
   "metadata": {},
   "outputs": [
    {
     "name": "stdout",
     "output_type": "stream",
     "text": [
      "5\n",
      "5\n"
     ]
    }
   ],
   "source": [
    "for _ in (lst.get_index_of_value(5), lst.get_index_of_value_recursive(5, lst.head, 0)):\n",
    "    print(_)"
   ]
  },
  {
   "cell_type": "code",
   "execution_count": 9,
   "id": "cf235535-f2d7-408d-b97c-10cf0102f21b",
   "metadata": {},
   "outputs": [
    {
     "name": "stdout",
     "output_type": "stream",
     "text": [
      "5\n",
      "5\n"
     ]
    }
   ],
   "source": [
    "for _ in (lst.get_value_at_index(5), lst.get_value_at_index_recursive(5, lst.head)):\n",
    "    print(_)"
   ]
  },
  {
   "cell_type": "code",
   "execution_count": 10,
   "id": "aa0b6e72-1cb3-44d6-9d4b-3b574d06cbbf",
   "metadata": {},
   "outputs": [
    {
     "name": "stdout",
     "output_type": "stream",
     "text": [
      "9\n",
      "8\n",
      "7\n",
      "6\n",
      "5\n",
      "4\n",
      "3\n",
      "2\n",
      "1\n",
      "0\n"
     ]
    }
   ],
   "source": [
    "lst.reverse_recursive(lst.head)\n",
    "lst.print()"
   ]
  },
  {
   "cell_type": "code",
   "execution_count": 11,
   "id": "8aa87a2c-8b64-4fa8-9fe4-cf03eb84334d",
   "metadata": {},
   "outputs": [
    {
     "name": "stdout",
     "output_type": "stream",
     "text": [
      "10\n",
      "11\n",
      "12\n",
      "13\n",
      "14\n",
      "15\n",
      "16\n",
      "17\n",
      "18\n",
      "19\n",
      "20\n",
      "21\n",
      "22\n",
      "23\n",
      "24\n",
      "25\n",
      "26\n",
      "27\n",
      "28\n",
      "29\n"
     ]
    }
   ],
   "source": [
    "lst_b = DoublyLinkedList()\n",
    "for i in range(10, 30):\n",
    "    node = DoublyLinkedNode(i)\n",
    "    lst_b.insert(node)\n",
    "\n",
    "lst_b.print()"
   ]
  },
  {
   "cell_type": "code",
   "execution_count": 12,
   "id": "2160d0a7-3d0e-4f99-9c10-abe4b763f081",
   "metadata": {},
   "outputs": [
    {
     "name": "stdout",
     "output_type": "stream",
     "text": [
      "9\n",
      "10\n",
      "8\n",
      "11\n",
      "7\n",
      "12\n",
      "6\n",
      "13\n",
      "5\n",
      "14\n",
      "4\n",
      "15\n",
      "3\n",
      "16\n",
      "2\n",
      "17\n",
      "1\n",
      "18\n",
      "0\n",
      "19\n",
      "20\n",
      "21\n",
      "22\n",
      "23\n",
      "24\n",
      "25\n",
      "26\n",
      "27\n",
      "28\n",
      "29\n"
     ]
    }
   ],
   "source": [
    "lst.zipper_merge_list(lst_b)\n",
    "lst.print()"
   ]
  },
  {
   "cell_type": "code",
   "execution_count": 13,
   "id": "ec8e42d7-cecf-4f1d-956a-26eb9cd14165",
   "metadata": {},
   "outputs": [
    {
     "name": "stdout",
     "output_type": "stream",
     "text": [
      "0\n",
      "1\n",
      "2\n",
      "3\n",
      "4\n",
      "5\n",
      "6\n",
      "7\n",
      "8\n",
      "9\n",
      "10\n",
      "11\n",
      "12\n",
      "13\n",
      "14\n"
     ]
    }
   ],
   "source": [
    "lst = DoublyLinkedList()\n",
    "for i in range(10):\n",
    "    node = DoublyLinkedNode(i)\n",
    "    lst.insert(node)\n",
    "\n",
    "lst.print()\n",
    "\n",
    "lst_b = DoublyLinkedList()\n",
    "for i in range(10, 15):\n",
    "    node = DoublyLinkedNode(i)\n",
    "    lst_b.insert(node)\n",
    "\n",
    "lst_b.print()"
   ]
  },
  {
   "cell_type": "code",
   "execution_count": 14,
   "id": "e892e7fe-df5d-45e0-bb1b-bb35ebc8355d",
   "metadata": {},
   "outputs": [
    {
     "name": "stdout",
     "output_type": "stream",
     "text": [
      "0\n",
      "10\n",
      "1\n",
      "11\n",
      "2\n",
      "12\n",
      "3\n",
      "13\n",
      "4\n",
      "14\n",
      "5\n",
      "6\n",
      "7\n",
      "8\n",
      "9\n"
     ]
    }
   ],
   "source": [
    "lst.zipper_merge_list_recursive(lst.head, lst_b.head)\n",
    "lst.print()"
   ]
  },
  {
   "cell_type": "code",
   "execution_count": 15,
   "id": "b333a7a3-6d7c-48e2-af9a-af480913f0d5",
   "metadata": {},
   "outputs": [
    {
     "name": "stdout",
     "output_type": "stream",
     "text": [
      "0\n",
      "10\n",
      "1\n",
      "11\n",
      "2\n",
      "12\n",
      "3\n",
      "13\n",
      "4\n",
      "14\n",
      "5\n",
      "6\n",
      "7\n",
      "8\n",
      "9\n"
     ]
    }
   ],
   "source": [
    "lst.print()"
   ]
  },
  {
   "cell_type": "code",
   "execution_count": null,
   "id": "cbf75ca2-4440-4b70-b18e-c9428bcf9b22",
   "metadata": {},
   "outputs": [],
   "source": []
  },
  {
   "cell_type": "code",
   "execution_count": null,
   "id": "8291b957-55c3-4702-88f2-69e804611d75",
   "metadata": {},
   "outputs": [],
   "source": []
  }
 ],
 "metadata": {
  "kernelspec": {
   "display_name": "Python 3 (ipykernel)",
   "language": "python",
   "name": "python3"
  },
  "language_info": {
   "codemirror_mode": {
    "name": "ipython",
    "version": 3
   },
   "file_extension": ".py",
   "mimetype": "text/x-python",
   "name": "python",
   "nbconvert_exporter": "python",
   "pygments_lexer": "ipython3",
   "version": "3.8.6"
  }
 },
 "nbformat": 4,
 "nbformat_minor": 5
}
