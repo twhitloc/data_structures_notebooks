{
 "cells": [
  {
   "cell_type": "markdown",
   "id": "488dc3a7-06f6-4acd-a28d-497d7ca899bb",
   "metadata": {},
   "source": [
    "# Trees, Binary Trees and More"
   ]
  },
  {
   "cell_type": "markdown",
   "id": "6418643f-a125-4cab-ad38-18ce5cad0491",
   "metadata": {},
   "source": [
    "## What is a Binary Tree?\n",
    "* A Binary Tree is a Data Structure that contains a sequence of data, which can be implemented either using LinkedLists or Arrays\n",
    "* The Nodes in a Binary Tree will have at most `two` children, hence the name Binary Tree\n",
    "* Other types of Trees can include N-ary Trees and Tries (Trees wherein the Nodes contain three reference pointers as well as the value)\n",
    "* There are variants of these known as Search Trees\n",
    "    * Search Trees offer additional tools for fast access, search and maintaining a sorted sequence\n",
    "    * These Trees store all the data in sorted order and when a new element is added, and how it is added into the sequence will depend on its value relative to the existing Nodes\n",
    "    \n",
    "        * Some Examples of Search Trees include:\n",
    "            * Tries\n",
    "            * Binary Search Trees\n",
    "                * AVL Trees\n",
    "                * Black-Red Trees\n",
    "        * Other examples of Special Trees include:\n",
    "            * Heaps\n",
    "                * Min Heap\n",
    "                * Max Heap\n",
    "            "
   ]
  },
  {
   "cell_type": "markdown",
   "id": "30b6bee6-29b1-4c1b-923e-ed1f566f1898",
   "metadata": {},
   "source": [
    "## Node Class"
   ]
  },
  {
   "cell_type": "code",
   "execution_count": 1,
   "id": "9edf6e59-f114-46f0-8d6c-3ae879b468f1",
   "metadata": {},
   "outputs": [],
   "source": [
    "class BinaryNode:\n",
    "    \"\"\"\n",
    "    Simple Implementation of a Binary Tree Node\n",
    "    \"\"\"\n",
    "    def __init__(self, value, right=None, left=None):\n",
    "        self.value = value\n",
    "        self.right = right\n",
    "        self.left = left\n",
    "\n",
    "class TrinaryNode(BinaryNode):\n",
    "    \"\"\"\n",
    "    Simple Implementation of Trie Node Inheriting from Binary Node\n",
    "    \"\"\"\n",
    "    def __init__(self, value, left=None, middle=None, right=None):\n",
    "        super().__init__(value, left, right)\n",
    "        self.middle=middle"
   ]
  },
  {
   "cell_type": "markdown",
   "id": "8df78603-c6e6-49b2-926e-c873edfe6761",
   "metadata": {},
   "source": [
    "## Binary Tree"
   ]
  },
  {
   "cell_type": "code",
   "execution_count": 191,
   "id": "1c3cd256-6743-402a-b849-83c674f978f9",
   "metadata": {},
   "outputs": [],
   "source": [
    "import math\n",
    "\n",
    "class BinaryTree:\n",
    "    \"\"\"\n",
    "    Simple Binary Tree Implementation\n",
    "    \"\"\"\n",
    "    def __init__(self):\n",
    "        self.root = None\n",
    "        self.length = 0\n",
    "        self.depth = 0\n",
    "    \n",
    "    def inorder(self, root):\n",
    "        if not root:\n",
    "            return\n",
    "        self.inorder(root.left)\n",
    "        print(root.value)\n",
    "        self.inorder(root.right)\n",
    "    \n",
    "    def preorder(self, root):\n",
    "        if not root:\n",
    "            return\n",
    "        print(root.value)\n",
    "        self.preorder(root.left)\n",
    "        self.preorder(root.right)\n",
    "    \n",
    "    def postorder(self, root):\n",
    "        if not root:\n",
    "            return\n",
    "        self.postorder(root.left)\n",
    "        self.postorder(root.right)\n",
    "        print(root.value)\n",
    "        \n",
    "    def insert(self, node):\n",
    "        \n",
    "        if not self.root:\n",
    "            self.root = node\n",
    "            self.length += 1\n",
    "            self.depth += 1\n",
    "            return\n",
    "        \n",
    "        q = [self.root]\n",
    "        while levels:\n",
    "            current = q.pop(0)\n",
    "            \n",
    "            if not current.left:\n",
    "                current.left = node\n",
    "                break\n",
    "            else:\n",
    "                q.append(current.left)\n",
    "                \n",
    "            if not current.right:\n",
    "                current.right = node\n",
    "                break\n",
    "            else:\n",
    "                q.append(current.right)\n",
    "    \n",
    "    def find(self, value):\n",
    "        index = 0\n",
    "        if not self.root:\n",
    "            return -1, None\n",
    "        if self.root.value == value:\n",
    "            return index, self.root\n",
    "        \n",
    "        q = [(index, self.root)]\n",
    "        while q:\n",
    "            index, current = q.pop(0)\n",
    "            \n",
    "            if current.left:\n",
    "                index += 1\n",
    "                if current.left.value == value:\n",
    "                    return index, current.left\n",
    "                q.append((index, current.left))\n",
    "                \n",
    "            if current.right:\n",
    "                index += 1\n",
    "                if current.right.value == value:\n",
    "                    return index, current.right\n",
    "                q.append((index, current.right))\n",
    "                \n",
    "        return -1, None\n",
    "    \n",
    "    def greatest_child(self, root):\n",
    "        q = [root]\n",
    "        \n",
    "        while q:\n",
    "            current = q.pop(0)\n",
    "            \n",
    "    \n",
    "    def remove(self, value, root):\n",
    "        if not self.root:\n",
    "            return\n",
    "\n",
    "        if value != root.value:\n",
    "            root.right = self.remove(value, root.right)\n",
    "            root.left = self.remove(value, root.left)\n",
    "            return root\n",
    "        \n",
    "        if not root.left and not root.right:\n",
    "            return\n",
    "        \n",
    "        if not root.left:\n",
    "            temp = root.right\n",
    "            root = None\n",
    "            return temp\n",
    "        elif not root.right:\n",
    "            temp = root.left\n",
    "            root = None\n",
    "            return temp\n",
    "        \n",
    "        new_parent = root\n",
    "        successor = root.right\n",
    "        \n",
    "        while successor.left:\n",
    "            new_parent = successor\n",
    "            successor = successor.left\n",
    "        \n",
    "        if new_parent != root:\n",
    "            new_parent.left = successor.right\n",
    "        else:\n",
    "            new_parent.right = successor.right\n",
    "        \n",
    "        root.value = successor.value\n",
    "        return root\n",
    "    \n",
    "    def dfs_recursive(self, value, root):\n",
    "        if not root:\n",
    "            return\n",
    "        \n",
    "        print(root.value)\n",
    "        if root.value == value:\n",
    "            return root\n",
    "        \n",
    "        node = self.dfs_recursive(value, root.left)\n",
    "        return node if node else self.dfs_recursive(value, root.right)\n",
    "        \n",
    "    def dfs_iterative(self, value):\n",
    "        if not self.root:\n",
    "            return\n",
    "        \n",
    "        stack = [self.root]\n",
    "        \n",
    "        while stack:\n",
    "            current = stack.pop(-1)\n",
    "            if current:\n",
    "                print(current.value)\n",
    "                if current.value == value:\n",
    "                    return current\n",
    "\n",
    "                stack.append(current.right)\n",
    "                stack.append(current.left)\n",
    "        return\n",
    "    \n",
    "    def bfs_recursive(self, value, queue):\n",
    "        if not queue:\n",
    "            return\n",
    "            \n",
    "        next_level = []\n",
    "        while queue:\n",
    "            current = queue.pop(0)\n",
    "            if current:\n",
    "                print(current.value)\n",
    "                if current.value == value:\n",
    "                    return current\n",
    "\n",
    "                for node in (current.right, current.left):\n",
    "                    next_level.append(node)\n",
    "                    \n",
    "        return self.bfs_recursive(value, next_level)\n",
    "        \n",
    "    def bfs_iterative(self, value):\n",
    "        if not self.root:\n",
    "            return\n",
    "        \n",
    "        queue = [self.root]\n",
    "        \n",
    "        while queue:\n",
    "            current = queue.pop(0)\n",
    "            if current:\n",
    "                print(current.value)\n",
    "                if current.value == value:\n",
    "                    return current\n",
    "                for child in (current.right, current.left):\n",
    "                    queue.append(child)\n",
    "        return\n",
    "    \n",
    "    def tree_sum(self, root, total=0):\n",
    "        if not root:\n",
    "            return total\n",
    "        total += root.value\n",
    "        return sum([total, self.tree_sum(root.right), self.tree_sum(root.left)])\n",
    "    \n",
    "    def tree_min(self, root):\n",
    "        if not root:\n",
    "            return math.inf\n",
    "        \n",
    "        return min([root.value, self.tree_min(root.left), self.tree_min(root.right)])\n",
    "    \n",
    "    def tree_max(self, root):\n",
    "        if not root:\n",
    "            return -math.inf\n",
    "        \n",
    "        return max([root.value,\n",
    "                    self.tree_max(root.left),\n",
    "                    self.tree_max(root.right)])\n",
    "        \n",
    "        \n",
    "                \n",
    "    def max_sum_path(self, root, path):\n",
    "        if not root:\n",
    "            return -math.inf, []\n",
    "        if not root.left and not root.right:\n",
    "            return (root.value, [root])\n",
    "        max_sum, max_path = max(self.max_sum_path(root.right, path),\n",
    "                                self.max_sum_path(root.left, path), key=lambda items: items[0])\n",
    "        max_path.append(root)\n",
    "        max_sum += root.value\n",
    "        return max_sum, max_path"
   ]
  },
  {
   "cell_type": "code",
   "execution_count": 192,
   "id": "0253177f-7a22-4cc5-9863-2e8c03e59669",
   "metadata": {},
   "outputs": [],
   "source": [
    "class BinarySearchTree(BinaryTree):\n",
    "    \"\"\"\n",
    "    Simple Binary Search Tree Implementation Extending BinaryTree\n",
    "    \"\"\"\n",
    "    \n",
    "    def insert(self, node):\n",
    "        if not self.root:\n",
    "            self.root = node\n",
    "            self.length += 1\n",
    "            self.depth += 1\n",
    "            return\n",
    "        \n",
    "        inserted = False\n",
    "        q = [self.root]\n",
    "        \n",
    "        while q:\n",
    "            current = q.pop(0)\n",
    "            if node.value >= current.value:\n",
    "                if current.right:\n",
    "                    q.append(current.right)\n",
    "                else:\n",
    "                    current.right = node\n",
    "                    self.length += 1\n",
    "                    return\n",
    "            if node.value < current.value:\n",
    "                if current.left:\n",
    "                    q.append(current.left)\n",
    "                else:\n",
    "                    current.left = node\n",
    "                    self.length += 1\n",
    "                    return\n",
    "    \n",
    "    def find(self, value):\n",
    "        if not self.root:\n",
    "            return -1, None\n",
    "        \n",
    "        level = 0\n",
    "        q = [(index, self.root)]\n",
    "        \n",
    "        while not inserted and q:\n",
    "            level, current = levels.pop(0)\n",
    "            \n",
    "            if not current:\n",
    "                return -1, current\n",
    "            \n",
    "            if current.value == value:\n",
    "                return level, current\n",
    "            \n",
    "            if value > current.value:\n",
    "                level += 1\n",
    "                q.append((level, current.right))\n",
    "                \n",
    "            if value < current.value:\n",
    "                level += 1\n",
    "                q.append((level, current.left))\n",
    "        \n",
    "    def remove(self, value, root):\n",
    "        if not self.root:\n",
    "            return\n",
    "        \n",
    "        if value < root.value:\n",
    "            root.left = self.remove(value, root.left)\n",
    "            return root\n",
    "        if value > root.value:\n",
    "            root.right = self.remove(value, root.right)\n",
    "            return root\n",
    "        \n",
    "        if not root.left and not root.right:\n",
    "            return\n",
    "        \n",
    "        if not root.left:\n",
    "            temp = root.right\n",
    "            root = None\n",
    "            return temp\n",
    "        elif not root.right:\n",
    "            temp = root.left\n",
    "            root = None\n",
    "            return temp\n",
    "        \n",
    "        new_parent = root\n",
    "        successor = root.right\n",
    "        \n",
    "        while successor.left:\n",
    "            new_parent = successor\n",
    "            successor = successor.left\n",
    "        \n",
    "        if new_parent != root:\n",
    "            new_parent.left = successor.right\n",
    "        else:\n",
    "            new_parent.right = successor.right\n",
    "        \n",
    "        root.value = successor.value\n",
    "        return root\n",
    "    \n",
    "    \n",
    "                \n",
    "    "
   ]
  },
  {
   "cell_type": "code",
   "execution_count": 193,
   "id": "ad7cfe47-251b-4b00-bb1f-c6087847a600",
   "metadata": {},
   "outputs": [
    {
     "name": "stdout",
     "output_type": "stream",
     "text": [
      "1\n",
      "3\n",
      "4\n",
      "5\n",
      "12\n",
      "13\n",
      "13\n",
      "15\n",
      "20\n",
      "20\n",
      "\n",
      "13\n",
      "12\n",
      "3\n",
      "1\n",
      "5\n",
      "4\n",
      "20\n",
      "13\n",
      "15\n",
      "20\n",
      "\n",
      "20\n",
      "20\n",
      "15\n",
      "13\n",
      "13\n",
      "12\n",
      "5\n",
      "4\n",
      "3\n",
      "1\n",
      "\n",
      "[13, 12, 3, 1, 20, 5, 20, 13, 4, 15]\n"
     ]
    }
   ],
   "source": [
    "from random import randint\n",
    "\n",
    "bst = BinarySearchTree()\n",
    "values = [randint(0,20) for _ in range(10)]\n",
    "\n",
    "for i in values:\n",
    "    node = BinaryNode(i)\n",
    "    bst.insert(node)\n",
    "    \n",
    "bst.inorder(bst.root)\n",
    "print()\n",
    "bst.preorder(bst.root)\n",
    "print()\n",
    "bst.postorder(bst.root)\n",
    "print()\n",
    "print(values)"
   ]
  },
  {
   "cell_type": "code",
   "execution_count": 194,
   "id": "e8163308-c8fc-442f-9109-4960e9825f5c",
   "metadata": {},
   "outputs": [
    {
     "name": "stdout",
     "output_type": "stream",
     "text": [
      "13\n",
      "12\n",
      "3\n",
      "1\n",
      "5\n"
     ]
    },
    {
     "data": {
      "text/plain": [
       "5"
      ]
     },
     "execution_count": 194,
     "metadata": {},
     "output_type": "execute_result"
    }
   ],
   "source": [
    "bst.dfs_recursive(values[5], bst.root).value"
   ]
  },
  {
   "cell_type": "code",
   "execution_count": 195,
   "id": "de04bdc8-f99a-4dc5-aab7-7792fd24fff7",
   "metadata": {},
   "outputs": [
    {
     "name": "stdout",
     "output_type": "stream",
     "text": [
      "13\n",
      "12\n",
      "3\n",
      "1\n",
      "5\n"
     ]
    },
    {
     "data": {
      "text/plain": [
       "5"
      ]
     },
     "execution_count": 195,
     "metadata": {},
     "output_type": "execute_result"
    }
   ],
   "source": [
    "bst.dfs_iterative(values[5]).value"
   ]
  },
  {
   "cell_type": "code",
   "execution_count": 196,
   "id": "96ae7b27-78d2-42f8-8584-dbf32db1e5bb",
   "metadata": {},
   "outputs": [
    {
     "name": "stdout",
     "output_type": "stream",
     "text": [
      "13\n",
      "20\n",
      "12\n",
      "20\n",
      "13\n",
      "3\n",
      "15\n",
      "5\n"
     ]
    },
    {
     "data": {
      "text/plain": [
       "5"
      ]
     },
     "execution_count": 196,
     "metadata": {},
     "output_type": "execute_result"
    }
   ],
   "source": [
    "bst.bfs_recursive(values[5], [bst.root]).value"
   ]
  },
  {
   "cell_type": "code",
   "execution_count": 197,
   "id": "dd064813-564a-4026-991a-751a5f694400",
   "metadata": {},
   "outputs": [
    {
     "name": "stdout",
     "output_type": "stream",
     "text": [
      "13\n",
      "20\n",
      "12\n",
      "20\n",
      "13\n",
      "3\n",
      "15\n",
      "5\n"
     ]
    },
    {
     "data": {
      "text/plain": [
       "5"
      ]
     },
     "execution_count": 197,
     "metadata": {},
     "output_type": "execute_result"
    }
   ],
   "source": [
    "bst.bfs_iterative(values[5]).value"
   ]
  },
  {
   "cell_type": "code",
   "execution_count": 198,
   "id": "bb21d854-eb02-440f-a8b3-9e256b8858f9",
   "metadata": {},
   "outputs": [
    {
     "data": {
      "text/plain": [
       "'\\nLevel Sum,\\nTree Sum\\nSum Up To Value\\n'"
      ]
     },
     "execution_count": 198,
     "metadata": {},
     "output_type": "execute_result"
    }
   ],
   "source": [
    "\"\"\"\n",
    "Level Sum,\n",
    "Tree Sum\n",
    "Sum Up To Value\n",
    "\"\"\""
   ]
  },
  {
   "cell_type": "code",
   "execution_count": 199,
   "id": "1ff4154c-91df-4574-87bd-f7641023f265",
   "metadata": {},
   "outputs": [
    {
     "data": {
      "text/plain": [
       "106"
      ]
     },
     "execution_count": 199,
     "metadata": {},
     "output_type": "execute_result"
    }
   ],
   "source": [
    "bst.tree_sum(bst.root, 0)"
   ]
  },
  {
   "cell_type": "code",
   "execution_count": 200,
   "id": "944f490d-9c95-46f6-8645-916efbb9dcce",
   "metadata": {},
   "outputs": [
    {
     "data": {
      "text/plain": [
       "1"
      ]
     },
     "execution_count": 200,
     "metadata": {},
     "output_type": "execute_result"
    }
   ],
   "source": [
    "bst.tree_min(bst.root)"
   ]
  },
  {
   "cell_type": "code",
   "execution_count": 201,
   "id": "34f900e0-f72a-4894-a1cb-9c124b912af3",
   "metadata": {},
   "outputs": [
    {
     "data": {
      "text/plain": [
       "20"
      ]
     },
     "execution_count": 201,
     "metadata": {},
     "output_type": "execute_result"
    }
   ],
   "source": [
    "bst.tree_max(bst.root)"
   ]
  },
  {
   "cell_type": "code",
   "execution_count": 204,
   "id": "f5c24cb6-2f16-4084-af3d-7597e8e0eaeb",
   "metadata": {},
   "outputs": [
    {
     "name": "stdout",
     "output_type": "stream",
     "text": [
      "61\n",
      "15\n",
      "13\n",
      "20\n",
      "13\n"
     ]
    }
   ],
   "source": [
    "total, path = bst.max_sum_path(bst.root, [])\n",
    "print(total)\n",
    "for node in path:\n",
    "    print(node.value)"
   ]
  },
  {
   "cell_type": "code",
   "execution_count": null,
   "id": "1ebdb917-8304-4dbe-bc69-032c3f9e832f",
   "metadata": {},
   "outputs": [],
   "source": []
  }
 ],
 "metadata": {
  "kernelspec": {
   "display_name": "Python 3 (ipykernel)",
   "language": "python",
   "name": "python3"
  },
  "language_info": {
   "codemirror_mode": {
    "name": "ipython",
    "version": 3
   },
   "file_extension": ".py",
   "mimetype": "text/x-python",
   "name": "python",
   "nbconvert_exporter": "python",
   "pygments_lexer": "ipython3",
   "version": "3.8.6"
  }
 },
 "nbformat": 4,
 "nbformat_minor": 5
}
